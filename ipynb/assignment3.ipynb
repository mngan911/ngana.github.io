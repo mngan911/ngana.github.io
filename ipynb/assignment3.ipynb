{
  "cells": [
    {
      "cell_type": "markdown",
      "id": "94F5CeMrRp4l",
      "metadata": {
        "id": "94F5CeMrRp4l"
      },
      "source": [
        "Task: Apply Monte Carlo simulations combined with Bootstrap to evaluate quality of inference on B1 using serially correlated data\n",
        "1.   Simulate data with AR(1) errors\n",
        "2.   Calculate bootstrap standard errors\n",
        "3.   Construct a 95% confidence interval for B1, using both the bootstrap and the theoretical standard errors\n",
        "4.   Perform Monte Carlo simulations T=100, T=500 and assess Empirical coverage of CI\n"
      ]
    },
    {
      "cell_type": "markdown",
      "id": "El9gctt4Syo3",
      "metadata": {
        "id": "El9gctt4Syo3"
      },
      "source": [
        "# Simulate data"
      ]
    },
    {
      "cell_type": "code",
      "execution_count": 29,
      "id": "44797e56",
      "metadata": {
        "id": "44797e56"
      },
      "outputs": [],
      "source": [
        "import numpy as np\n",
        "import matplotlib.pyplot as plt\n",
        "import statsmodels.api as sm"
      ]
    },
    {
      "cell_type": "code",
      "execution_count": 30,
      "id": "efcabe67",
      "metadata": {
        "id": "efcabe67"
      },
      "outputs": [],
      "source": [
        "np.random.seed(88) # Set random seed for reproducibility"
      ]
    },
    {
      "cell_type": "code",
      "execution_count": 31,
      "id": "94e29daf",
      "metadata": {
        "id": "94e29daf"
      },
      "outputs": [],
      "source": [
        "def generate_ar1_errors(T, rho=0.5, sigma=1):  #Create funtion get AR(1) errors\n",
        "  \"\"\"\n",
        "  Simulate an AR(1) process, taking the errors\n",
        "\n",
        "  Parameters:\n",
        "    T (int): Number of observations.\n",
        "    rho (float): Coefficient of AR(1) process.\n",
        "    sigma (float): Standard deviation\n",
        "\n",
        "  Returns:\n",
        "    u: Simulated AR(1) error terms.\n",
        "  \"\"\"\n",
        "    u = np.zeros(T) #Create numpy array storing all the u\n",
        "    u[0] = np.random.normal(0, sigma)\n",
        "    for t in range(1, T):\n",
        "        u[t] = rho * u[t - 1] + np.random.normal(0, sigma)\n",
        "    return u"
      ]
    },
    {
      "cell_type": "code",
      "execution_count": 32,
      "id": "f94495ad",
      "metadata": {
        "id": "f94495ad"
      },
      "outputs": [],
      "source": [
        "def simulate_regression_with_ar1_errors(T, beta_0=1, beta_1=2, rho=0.5, sigma=1):  #Create funtion to simulate data\n",
        "  \"\"\"\n",
        "  Simulate a regression model with AR(1) error terms, taking x, y, u\n",
        "\n",
        "  Parameters:\n",
        "    T (int): Number of observations.\n",
        "    beta0 (float): Intercept of the regression model.\n",
        "    beta1 (float): Slope of the regression model.\n",
        "    rho (float): Coefficient of the AR(1) process in the error term.\n",
        "    sigma (float): Standard deviation\n",
        "  Returns:\n",
        "    tuple: x (independent variable), y (dependent variable))\n",
        "  \"\"\"\n",
        "    x = np.random.normal(0, 1, T)\n",
        "    u = generate_ar1_errors(T, rho, sigma)\n",
        "    y = beta_0 + beta_1 * x + u\n",
        "    return x, y"
      ]
    },
    {
      "cell_type": "code",
      "execution_count": null,
      "id": "a6e5eb18",
      "metadata": {
        "id": "a6e5eb18"
      },
      "outputs": [],
      "source": [
        "def ols_estimate(x, y): #Create OLS model, return the parameters of Beta0 and Beta1 & SE\n",
        "    X = sm.add_constant(x) # Using statsmodel library\n",
        "    model = sm.OLS(y, X)\n",
        "    results = model.fit()\n",
        "    return results.params, results.bse # return parameters and standard errors"
      ]
    },
    {
      "cell_type": "markdown",
      "id": "bTXchUWTSpsK",
      "metadata": {
        "id": "bTXchUWTSpsK"
      },
      "source": [
        "# Bootstrap SE\n",
        "Since the data is serially correlated (e.g as in Time Series, data from Jan-Dec should be all taken into consideration, can't omit Feb in between), we will use Moving Block Bootstrap to preserve the correlation."
      ]
    },
    {
      "cell_type": "code",
      "execution_count": 39,
      "id": "cb696a22",
      "metadata": {
        "id": "cb696a22"
      },
      "outputs": [],
      "source": [
        "def bootstrap_standard_errors(x, y, L=12, B=1000):\n",
        "  \"\"\"\n",
        "  Create function calculating Boostrap SE\n",
        "  L is block length, as in Time series of monthly economic data, L=12 means taking 1 block consist of 12 consecutive months\n",
        "  B is number of bootstrap samples\n",
        "  Add a step of calculating Number of Blocks (NB)\n",
        "  \"\"\"\n",
        "\n",
        "  T = len(y)\n",
        "  NB = T // L + (1 if T % L else 0) # NB: Num of Blocks\n",
        "  beta_bootstrap = np.zeros((NB, 2)) # Create array storing all Beta0 and Beta1 from Bootstrap\n",
        "\n",
        "  for i in range(NB):\n",
        "      indices = np.random.choice(np.arange(NB) * L, size=NB, replace=True) #Take random indices of Block, each time take a Block from the pool\n",
        "      sample_indices = np.hstack([np.arange(index, min(index + L, T)) for index in indices])\n",
        "      sample_indices = sample_indices[:T]  # Ensure the bootstrap sample is the same size as the original data\n",
        "\n",
        "      x_resampled = x[sample_indices]\n",
        "      y_resampled = y[sample_indices]\n",
        "\n",
        "      # Refit model on bootstrap model using resampled x and y\n",
        "      beta_bootstrap[i] = ols_estimate(x_resampled, y_resampled)[0]\n",
        "\n",
        "  # Calculate the standard deviation for the standard errors\n",
        "  se_bootstrap = beta_bootstrap.std(axis=0)\n",
        "\n",
        "  return se_bootstrap"
      ]
    },
    {
      "cell_type": "markdown",
      "id": "MKLL5MFmlbUY",
      "metadata": {
        "id": "MKLL5MFmlbUY"
      },
      "source": [
        "# Confidence Interval and Empirical coverage"
      ]
    },
    {
      "cell_type": "markdown",
      "id": "4ZfDLJzZlhov",
      "metadata": {
        "id": "4ZfDLJzZlhov"
      },
      "source": [
        "* We run Monte Carlo simulation, constructing CI using Theoretical SE and Bootstrap SE again and again.\n",
        "* Then we check if the True Beta1 value fall within those CI (1: fall into, 0: no)\n",
        "* By taking the mean of all values, we get the Empirical coverage. We expect this coverage to be close to 95% (as in 95% CI)."
      ]
    },
    {
      "cell_type": "code",
      "execution_count": 59,
      "id": "cf0a3dcf",
      "metadata": {
        "id": "cf0a3dcf"
      },
      "outputs": [],
      "source": [
        "def monte_carlo_simulation(T, num_simulations=1000):\n",
        "    np.random.seed(88) # Set random seed for reproducibility\n",
        "    coverage_theoretical = np.zeros(num_simulations) #Create array to store the Theoretical CI coverage\n",
        "    coverage_bootstrap = np.zeros(num_simulations) #Create array to store the Bootstrap CI coverage\n",
        "\n",
        "    for i in range(num_simulations):\n",
        "        x, y = simulate_regression_with_ar1_errors(T)\n",
        "        beta_hat, se_theoretical = ols_estimate(x, y) #From OLS estimation: Beta hat taken from result.params, SE theoretical taken from result.bse\n",
        "        se_bootstrap = bootstrap_standard_errors(x, y)\n",
        "\n",
        "        # Construct a 95% confidence interval for\n",
        "        ci_theoretical = [beta_hat - 1.96 * se_theoretical, beta_hat + 1.96 * se_theoretical] #Constructing CI for using Theoretical SE\n",
        "        ci_bootstrap = [beta_hat - 1.96 * se_bootstrap, beta_hat + 1.96 * se_bootstrap] #Constructing CI for using Bootstrap SE\n",
        "\n",
        "        # Determine if the true beta_1 falls within the confidence interval\n",
        "        \"\"\"\n",
        "        Count each time the true beta is within the CI equal to 1, true beta fall out of CI equal to 0\n",
        "        ci_theoretical[0][1] is the lower bound of CI for Beta1, ci_theoretical[1][1] is the upper bound of CI for Beta1\n",
        "        \"\"\"\n",
        "        coverage_theoretical[i] = (ci_theoretical[0][1] <= 2 <= ci_theoretical[1][1])\n",
        "        coverage_bootstrap[i] = (ci_bootstrap[0][1] <= 2 <= ci_bootstrap[1][1])\n",
        "\n",
        "    print(f\"T = {T}:\")\n",
        "    print(f\"Empirical Coverage - Theoretical CI: {coverage_theoretical.mean():.3f}\") #Taking the mean to know the % of Coverage\n",
        "    print(f\"Empirical Coverage - Bootstrap CI: {coverage_bootstrap.mean():.3f}\")\n",
        "    print(\"-\" * 40)"
      ]
    },
    {
      "cell_type": "code",
      "execution_count": 61,
      "id": "e4f3c608",
      "metadata": {
        "colab": {
          "base_uri": "https://localhost:8080/"
        },
        "id": "e4f3c608",
        "outputId": "afb9bbba-4a25-41d4-f2d7-3a48ae686fab"
      },
      "outputs": [
        {
          "name": "stdout",
          "output_type": "stream",
          "text": [
            "T = 100:\n",
            "Empirical Coverage - Theoretical CI: 0.949\n",
            "Empirical Coverage - Bootstrap CI: 0.849\n",
            "----------------------------------------\n"
          ]
        }
      ],
      "source": [
        "monte_carlo_simulation(T=100)"
      ]
    },
    {
      "cell_type": "code",
      "execution_count": 62,
      "id": "rZpRZVrwENbA",
      "metadata": {
        "colab": {
          "base_uri": "https://localhost:8080/"
        },
        "id": "rZpRZVrwENbA",
        "outputId": "c1bb8a23-b2cd-46fd-c58d-837e0def537f"
      },
      "outputs": [
        {
          "name": "stdout",
          "output_type": "stream",
          "text": [
            "T = 500:\n",
            "Empirical Coverage - Theoretical CI: 0.958\n",
            "Empirical Coverage - Bootstrap CI: 0.940\n",
            "----------------------------------------\n"
          ]
        }
      ],
      "source": [
        "monte_carlo_simulation(T=500)"
      ]
    },
    {
      "cell_type": "markdown",
      "id": "fOhAwToNfZ5d",
      "metadata": {
        "id": "fOhAwToNfZ5d"
      },
      "source": [
        "The result of empirical coverage is close to 95%. When we increase T from 100->500, we get even the closer number to 95%, as the estimation of Beta1 is improved due to increased sample size."
      ]
    },
    {
      "cell_type": "markdown",
      "id": "1QdByvq5hHag",
      "metadata": {
        "id": "1QdByvq5hHag"
      },
      "source": [
        "# Additional References\n",
        "1. Confidence Interval using Monte Carlo & Bootstrap: https://stats.stackexchange.com/questions/525063/trying-to-calculate-confidence-intervals-for-a-monte-carlo-estimate-of-pi-what\n",
        "2. Bootstrap and Monte Carlo Methods - Machine Learning TV: https://www.youtube.com/watch?v=d3mcuJycJfI&t=369s\n",
        "3. Resampling - Matthew E. Clapham: https://www.youtube.com/watch?v=Kho4VuKmQdE&t=592s"
      ]
    }
  ],
  "metadata": {
    "colab": {
      "provenance": []
    },
    "kernelspec": {
      "display_name": "Python 3 (ipykernel)",
      "language": "python",
      "name": "python3"
    },
    "language_info": {
      "codemirror_mode": {
        "name": "ipython",
        "version": 3
      },
      "file_extension": ".py",
      "mimetype": "text/x-python",
      "name": "python",
      "nbconvert_exporter": "python",
      "pygments_lexer": "ipython3",
      "version": "3.9.12"
    }
  },
  "nbformat": 4,
  "nbformat_minor": 5
}
